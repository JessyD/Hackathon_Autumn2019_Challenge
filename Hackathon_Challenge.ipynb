{
 "cells": [
  {
   "cell_type": "markdown",
   "metadata": {},
   "source": [
    "### Inspiration and contributions\n",
    "\n",
    "The following challenge was inspired by _Python Machine Learning: 1st Edition_ by _Sebastian Raschka_.\n",
    "\n",
    "Contributions to coding challenge (alphabetically): Mateusz Bieniek (KCL, London, UK), Matthew Wai Heng Chung (KCL, London, UK), Lisa Grant (UCL, London, UK), Anna Laddach (Francis Crick Institute, London, UK), Marius Kausas (Francis Crick Institute & KCL, London, UK), Paul Smith (KCL, London, UK)."
   ]
  },
  {
   "cell_type": "markdown",
   "metadata": {},
   "source": [
    "### Data Hackathon Challenge\n",
    "\n",
    "Based on previous medical data, can we predict the diagnosis for the unseen breast cancer biopsy?\n",
    "\n",
    "Let's use Supervised Machine Learning to classify breast cancer biopsies as either benign or malignant. We'll use two different methods - Logistic Regression and Random Forests - and compare our models' predictive power to that of human specialists."
   ]
  },
  {
   "cell_type": "markdown",
   "metadata": {},
   "source": [
    "### Challenge data set\n",
    "\n",
    "1. Title: Mammographic Mass Data\n",
    "\n",
    "2. Sources:\n",
    "\n",
    "   (a) Original owners of database:\n",
    "        Prof. Dr. Reudiger Schulz-Wendtland\n",
    "        Institute of Radiology, Gynaecological Radiology, University Erlangen-Nuremberg\n",
    "        Universitaetsstrasse 21-23\n",
    "        91054 Erlangen, Germany\n",
    "        \n",
    "   (b) Donor of database:\n",
    "        Matthias Elter\n",
    "        Fraunhofer Institute for Integrated Circuits (IIS)\n",
    "        Image Processing and Medical Engineering Department (BMT) \n",
    "        Am Wolfsmantel 33\n",
    "        91058 Erlangen, Germany\n",
    "        matthias.elter@iis.fraunhofer.de\n",
    "        (49) 9131-7767327 \n",
    "        \n",
    "   (c) Date received: October 2007\n",
    " \n",
    "3. Past Usage:\n",
    "    M. Elter, R. Schulz-Wendtland and T. Wittenberg (2007)\n",
    "    The prediction of breast cancer biopsy outcomes using two CAD approaches that both emphasize an intelligible decision process.\n",
    "    Medical Physics 34(11), pp. 4164-4172\n",
    "\n",
    "4. Relevant Information:\n",
    "    Mammography is the most effective method for breast cancer screening\n",
    "    available today. However, the low positive predictive value of breast\n",
    "    biopsy resulting from mammogram interpretation leads to approximately\n",
    "    70% unnecessary biopsies with benign outcomes. To reduce the high\n",
    "    number of unnecessary breast biopsies, several computer-aided diagnosis\n",
    "    (CAD) systems have been proposed in the last years.These systems\n",
    "    help physicians in their decision to perform a breast biopsy on a suspicious\n",
    "    lesion seen in a mammogram or to perform a short term follow-up\n",
    "    examination instead.\n",
    "    This data set can be used to predict the severity (benign or malignant)\n",
    "    of a mammographic mass lesion from BI-RADS attributes and the patient's age.\n",
    "    It contains a BI-RADS assessment, the patient's age and three BI-RADS attributes\n",
    "    together with the ground truth (the severity field) for 516 benign and\n",
    "    445 malignant masses that have been identified on full field digital mammograms\n",
    "    collected at the Institute of Radiology of the\n",
    "    University Erlangen-Nuremberg between 2003 and 2006.\n",
    "    Each instance has an associated BI-RADS assessment ranging from 1 (definitely benign)\n",
    "    to 5 (highly suggestive of malignancy) assigned in a double-review process by\n",
    "    physicians. Assuming that all cases with BI-RADS assessments greater or equal\n",
    "    a given value (varying from 1 to 5), are malignant and the other cases benign,\n",
    "    sensitivities and associated specificities can be calculated. These can be an\n",
    "    indication of how well a CAD system performs compared to the radiologists.\n",
    "\n",
    "5. Number of Instances: 961\n",
    "\n",
    "6. Number of Attributes: 6 (1 goal field, 1 non-predictive, 4 predictive attributes)\n",
    "\n",
    "7. Attribute Information:\n",
    "   1. BI-RADS assessment: 1 to 5 (ordinal)  \n",
    "   2. Age: patient's age in years (integer)\n",
    "   3. Shape: mass shape: round=1 oval=2 lobular=3 irregular=4 (nominal)\n",
    "   4. Margin: mass margin: circumscribed=1 microlobulated=2 obscured=3 ill-defined=4 spiculated=5 (nominal)\n",
    "   5. Density: mass density high=1 iso=2 low=3 fat-containing=4 (ordinal)\n",
    "   6. Severity: benign=0 or malignant=1 (binominal)\n",
    "\n",
    "8. Missing Attribute Values: Yes\n",
    "    - BI-RADS assessment:    2\n",
    "    - Age:                   5\n",
    "    - Shape:                31\n",
    "    - Margin:               48\n",
    "    - Density:              76\n",
    "    - Severity:              0\n",
    "\n",
    "9. Class Distribution: benign: 516; malignant: 445\n",
    "\n",
    "For more information, please follow to: [UCI Machine Learning Repository](http://archive.ics.uci.edu/ml/datasets/mammographic+mass)"
   ]
  },
  {
   "cell_type": "markdown",
   "metadata": {},
   "source": [
    "### Data Hackathon tasks\n",
    "\n",
    "#### Interacting with Python libraries through Application Programming Interface (API)\n",
    "\n",
    "Your task is try to grasp the internal structure of Python libraries, how to interact with an API and look-up useful methods for your research.\n",
    "\n",
    "#### Data pre-processing\n",
    "\n",
    "Your task is understand the nature of the dataset. Can you tell what will give you most predictive power?\n",
    "\n",
    "1. Understand what type of data do you have.\n",
    "2. Check for missing data values.\n",
    "3. Investigate dataset values by plotting histograms or scatter plots.\n",
    "\n",
    "#### Data encoding\n",
    "\n",
    "Why would you want to encode your data labels?\n",
    "\n",
    "#### Data preparation\n",
    "\n",
    "Why data preparation is important?\n",
    "\n",
    "1. Why we need training and tests sets?\n",
    "2. How does one split data into training and test sets using _scikit-learn_?\n",
    "\n",
    "#### Correlations\n",
    "\n",
    "Why would you investigate your data using correlations?\n",
    "\n",
    "1. What types of correlation there are?\n",
    "2. Using _scipy_ or _pandas_, calculate various types of correlations between any given two features.\n",
    "3. Calculate pair-wise correlations between dataset features and plot a heatmap using.\n",
    "\n",
    "#### Logistic regression\n",
    "\n",
    "Perform Logistic Regression.\n",
    "\n",
    "1. What is a Logistic Regression?\n",
    "2. What are the differences between Linear and Logistic regression?\n",
    "3. What are advantages and disadvantages of the method?\n",
    "4. Using _scikit-learn_, how do you set-up a Logistic Regression?\n",
    "\n",
    "#### Random Forests\n",
    "\n",
    "Investigate the use of Random Trees/Forests for data classification.\n",
    "\n",
    "1. What are Random Forests?\n",
    "2. What are advantages and disadvantages of the method?\n",
    "3. Using _scikit-learn_, how do you set-up a Random Forest model?\n",
    "4. How do you get feature importance from Random Forests?\n",
    "5. How would you optimize Random Forests' hyperparameters?\n",
    "\n",
    "#### Model performance\n",
    "\n",
    "What statistical measures can be used to quantify models performance?\n",
    "\n",
    "Investigate the following metrics:\n",
    "\n",
    "1. Accuracy.\n",
    "2. Precision.\n",
    "3. Recall.\n",
    "4. F1 score.\n",
    "5. Receiver operator characteristic (ROC).\n",
    "6. Area under the curve (AUC).\n",
    "7. Matthew's correlation coefficient.\n",
    "8. Confusion matrix.\n",
    "9. Out-of-bag error.\n",
    "\n",
    "#### Plotting\n",
    "\n",
    "Basics of _matloptlib_ and _seaborn_:\n",
    "\n",
    "1. Learn how to generate a basic plot.\n",
    "2. Change default _matplotlib_ or _seaborn_ plotting styles.\n",
    "3. Set basic plot attributes, such as labels, titles and colors.\n",
    "4. Save figures as .png format with a certain quality.\n",
    "5. Avoid typing plt.show() and set interactive plotting within IPython. \n",
    "6. Change figure dimensions within Ipython.\n",
    "\n",
    "#### Too easy?\n",
    "\n",
    "Cross-compare the performance of available classification algorithms and tell which works the best!"
   ]
  },
  {
   "cell_type": "markdown",
   "metadata": {},
   "source": [
    "#### Learning material for this Hackathon\n",
    "\n",
    "* _scikit_learn_ tutorial: [text](https://scikit-learn.org/stable/tutorial/index.html)\n",
    "* Logistic Regression: [video](https://www.youtube.com/watch?v=yIYKR4sgzI8)\n",
    "* Decision Trees:[video](https://www.youtube.com/watch?v=7VeUPuFGJHk)\n",
    "* Random Forests: [video](https://www.youtube.com/watch?v=J4Wdy0Wc_xQ)"
   ]
  },
  {
   "cell_type": "markdown",
   "metadata": {},
   "source": [
    "#### Loading Python libraries"
   ]
  },
  {
   "cell_type": "code",
   "execution_count": 1,
   "metadata": {},
   "outputs": [],
   "source": [
    "# Data manipulation libraries\n",
    "import numpy as np\n",
    "import pandas as pd\n",
    "\n",
    "# Correlation coefficients\n",
    "from scipy import stats\n",
    "\n",
    "# Metrics\n",
    "from sklearn.metrics import mean_squared_error, accuracy_score, precision_score, recall_score\n",
    "from sklearn.metrics import roc_curve, f1_score, roc_auc_score, matthews_corrcoef, confusion_matrix\n",
    "from sklearn.metrics import classification_report\n",
    "\n",
    "# Data pre-processing\n",
    "from sklearn.preprocessing import LabelEncoder\n",
    "from sklearn.model_selection import train_test_split\n",
    "\n",
    "# Regression models\n",
    "from sklearn.linear_model import LogisticRegression\n",
    "\n",
    "# Random Forests\n",
    "from sklearn.ensemble import RandomForestClassifier\n",
    "from sklearn.model_selection import GridSearchCV\n",
    "\n",
    "# Plotting libraries\n",
    "import matplotlib.pyplot as plt\n",
    "plt.style.use(\"ggplot\")                    # Set Matplotlib styling\n",
    "from matplotlib.pylab import rcParams      \n",
    "import seaborn as sns"
   ]
  },
  {
   "cell_type": "code",
   "execution_count": 2,
   "metadata": {},
   "outputs": [],
   "source": [
    "# Set random seed for reproducibility\n",
    "np.random.seed(1234)"
   ]
  },
  {
   "cell_type": "markdown",
   "metadata": {},
   "source": [
    "#### Data loading and processing\n",
    "\n",
    "In the beginning of every data analysis project, one must pre-process available data. Usually the pre-processing involves raw data inspection, visualization, dealing with missing values and preparing correct input for machine learning algortithms. If the data is from a publicly available research repository, reading the associated research articles often is very useful. \n",
    "\n",
    "The role of a researcher is to investigate and understand the available data set and choose the most appropriate modelling technique for the investigation of a given hypothesis. \n",
    "\n",
    "Thus, one would need to invest a considerable amount of time on the following section.  \n",
    " \n",
    "In this section, we will use _pandas_ and _numpy_ functionallities to load the [Mammographic Masses dataset](http://archive.ics.uci.edu/ml/datasets/mammographic+mass) and prepare the correct input for a machine learning model in _scikit_learn_.\n",
    "\n",
    "The data set of interest contains some missing values and some outliers. Can you detect them? How would you proceed?"
   ]
  },
  {
   "cell_type": "code",
   "execution_count": 3,
   "metadata": {},
   "outputs": [],
   "source": [
    "# Define column names\n",
    "df_col_names = [\"BI-RADS assessment\", \"Age\", \"Shape\", \"Margin\", \"Density\", \"Severity\"]"
   ]
  },
  {
   "cell_type": "markdown",
   "metadata": {},
   "source": [
    "Have you really understood the types of data you have?"
   ]
  },
  {
   "cell_type": "markdown",
   "metadata": {},
   "source": [
    "__Tasks:__\n",
    "\n",
    "- Using _pandas_, load mammographics_masses.data file."
   ]
  },
  {
   "cell_type": "code",
   "execution_count": 4,
   "metadata": {},
   "outputs": [],
   "source": [
    "# Load the data\n",
    "df = pd.read_csv(\"./input-data/mammographic_masses.data\", names=df_col_names)"
   ]
  },
  {
   "cell_type": "markdown",
   "metadata": {},
   "source": [
    "__Tasks:__\n",
    "\n",
    "- Inspect underlying data set for missing values - what are they?\n",
    "- Check which columns contain missing values."
   ]
  },
  {
   "cell_type": "code",
   "execution_count": 5,
   "metadata": {},
   "outputs": [
    {
     "data": {
      "text/html": [
       "<div>\n",
       "<style scoped>\n",
       "    .dataframe tbody tr th:only-of-type {\n",
       "        vertical-align: middle;\n",
       "    }\n",
       "\n",
       "    .dataframe tbody tr th {\n",
       "        vertical-align: top;\n",
       "    }\n",
       "\n",
       "    .dataframe thead th {\n",
       "        text-align: right;\n",
       "    }\n",
       "</style>\n",
       "<table border=\"1\" class=\"dataframe\">\n",
       "  <thead>\n",
       "    <tr style=\"text-align: right;\">\n",
       "      <th></th>\n",
       "      <th>BI-RADS assessment</th>\n",
       "      <th>Age</th>\n",
       "      <th>Shape</th>\n",
       "      <th>Margin</th>\n",
       "      <th>Density</th>\n",
       "      <th>Severity</th>\n",
       "    </tr>\n",
       "  </thead>\n",
       "  <tbody>\n",
       "    <tr>\n",
       "      <th>0</th>\n",
       "      <td>5</td>\n",
       "      <td>67</td>\n",
       "      <td>3</td>\n",
       "      <td>5</td>\n",
       "      <td>3</td>\n",
       "      <td>1</td>\n",
       "    </tr>\n",
       "    <tr>\n",
       "      <th>1</th>\n",
       "      <td>4</td>\n",
       "      <td>43</td>\n",
       "      <td>1</td>\n",
       "      <td>1</td>\n",
       "      <td>?</td>\n",
       "      <td>1</td>\n",
       "    </tr>\n",
       "    <tr>\n",
       "      <th>2</th>\n",
       "      <td>5</td>\n",
       "      <td>58</td>\n",
       "      <td>4</td>\n",
       "      <td>5</td>\n",
       "      <td>3</td>\n",
       "      <td>1</td>\n",
       "    </tr>\n",
       "    <tr>\n",
       "      <th>3</th>\n",
       "      <td>4</td>\n",
       "      <td>28</td>\n",
       "      <td>1</td>\n",
       "      <td>1</td>\n",
       "      <td>3</td>\n",
       "      <td>0</td>\n",
       "    </tr>\n",
       "    <tr>\n",
       "      <th>4</th>\n",
       "      <td>5</td>\n",
       "      <td>74</td>\n",
       "      <td>1</td>\n",
       "      <td>5</td>\n",
       "      <td>?</td>\n",
       "      <td>1</td>\n",
       "    </tr>\n",
       "    <tr>\n",
       "      <th>5</th>\n",
       "      <td>4</td>\n",
       "      <td>65</td>\n",
       "      <td>1</td>\n",
       "      <td>?</td>\n",
       "      <td>3</td>\n",
       "      <td>0</td>\n",
       "    </tr>\n",
       "    <tr>\n",
       "      <th>6</th>\n",
       "      <td>4</td>\n",
       "      <td>70</td>\n",
       "      <td>?</td>\n",
       "      <td>?</td>\n",
       "      <td>3</td>\n",
       "      <td>0</td>\n",
       "    </tr>\n",
       "    <tr>\n",
       "      <th>7</th>\n",
       "      <td>5</td>\n",
       "      <td>42</td>\n",
       "      <td>1</td>\n",
       "      <td>?</td>\n",
       "      <td>3</td>\n",
       "      <td>0</td>\n",
       "    </tr>\n",
       "    <tr>\n",
       "      <th>8</th>\n",
       "      <td>5</td>\n",
       "      <td>57</td>\n",
       "      <td>1</td>\n",
       "      <td>5</td>\n",
       "      <td>3</td>\n",
       "      <td>1</td>\n",
       "    </tr>\n",
       "    <tr>\n",
       "      <th>9</th>\n",
       "      <td>5</td>\n",
       "      <td>60</td>\n",
       "      <td>?</td>\n",
       "      <td>5</td>\n",
       "      <td>1</td>\n",
       "      <td>1</td>\n",
       "    </tr>\n",
       "  </tbody>\n",
       "</table>\n",
       "</div>"
      ],
      "text/plain": [
       "  BI-RADS assessment Age Shape Margin Density  Severity\n",
       "0                  5  67     3      5       3         1\n",
       "1                  4  43     1      1       ?         1\n",
       "2                  5  58     4      5       3         1\n",
       "3                  4  28     1      1       3         0\n",
       "4                  5  74     1      5       ?         1\n",
       "5                  4  65     1      ?       3         0\n",
       "6                  4  70     ?      ?       3         0\n",
       "7                  5  42     1      ?       3         0\n",
       "8                  5  57     1      5       3         1\n",
       "9                  5  60     ?      5       1         1"
      ]
     },
     "execution_count": 5,
     "metadata": {},
     "output_type": "execute_result"
    }
   ],
   "source": [
    "# Print out head of the pandas DataFrame\n",
    "df.head(10)"
   ]
  },
  {
   "cell_type": "code",
   "execution_count": 6,
   "metadata": {},
   "outputs": [
    {
     "name": "stdout",
     "output_type": "stream",
     "text": [
      "<class 'pandas.core.frame.DataFrame'>\n",
      "RangeIndex: 961 entries, 0 to 960\n",
      "Data columns (total 6 columns):\n",
      "BI-RADS assessment    961 non-null object\n",
      "Age                   961 non-null object\n",
      "Shape                 961 non-null object\n",
      "Margin                961 non-null object\n",
      "Density               961 non-null object\n",
      "Severity              961 non-null int64\n",
      "dtypes: int64(1), object(5)\n",
      "memory usage: 45.2+ KB\n"
     ]
    }
   ],
   "source": [
    "# Check the type of the dataset\n",
    "df.info()"
   ]
  },
  {
   "cell_type": "code",
   "execution_count": 7,
   "metadata": {},
   "outputs": [
    {
     "data": {
      "text/plain": [
       "BI-RADS assessment    0\n",
       "Age                   0\n",
       "Shape                 0\n",
       "Margin                0\n",
       "Density               0\n",
       "Severity              0\n",
       "dtype: int64"
      ]
     },
     "execution_count": 7,
     "metadata": {},
     "output_type": "execute_result"
    }
   ],
   "source": [
    "# Check which columns contain missing values. There are no NaNs but there are a few '?'\n",
    "df.isnull().sum()"
   ]
  },
  {
   "cell_type": "code",
   "execution_count": 8,
   "metadata": {},
   "outputs": [
    {
     "data": {
      "text/plain": [
       "BI-RADS assessment     2\n",
       "Age                    5\n",
       "Shape                 31\n",
       "Margin                48\n",
       "Density               76\n",
       "Severity               0\n",
       "dtype: int64"
      ]
     },
     "execution_count": 8,
     "metadata": {},
     "output_type": "execute_result"
    }
   ],
   "source": [
    "df.isin(['?']).sum()"
   ]
  },
  {
   "cell_type": "markdown",
   "metadata": {},
   "source": [
    "__Tasks:__\n",
    "\n",
    "- Identify indices of rows that contain missing values."
   ]
  },
  {
   "cell_type": "code",
   "execution_count": 9,
   "metadata": {},
   "outputs": [
    {
     "data": {
      "text/plain": [
       "Index(['BI-RADS assessment', 'Age', 'Shape', 'Margin', 'Density', 'Severity'], dtype='object')"
      ]
     },
     "execution_count": 9,
     "metadata": {},
     "output_type": "execute_result"
    }
   ],
   "source": [
    "# Get the columns name\n",
    "columns = df.columns\n",
    "columns"
   ]
  },
  {
   "cell_type": "code",
   "execution_count": 10,
   "metadata": {},
   "outputs": [],
   "source": [
    "# Change the missing values to NaN\n",
    "for column in columns:\n",
    "    clean_df = df.replace({'?': np.nan})"
   ]
  },
  {
   "cell_type": "code",
   "execution_count": 11,
   "metadata": {},
   "outputs": [
    {
     "data": {
      "text/html": [
       "<div>\n",
       "<style scoped>\n",
       "    .dataframe tbody tr th:only-of-type {\n",
       "        vertical-align: middle;\n",
       "    }\n",
       "\n",
       "    .dataframe tbody tr th {\n",
       "        vertical-align: top;\n",
       "    }\n",
       "\n",
       "    .dataframe thead th {\n",
       "        text-align: right;\n",
       "    }\n",
       "</style>\n",
       "<table border=\"1\" class=\"dataframe\">\n",
       "  <thead>\n",
       "    <tr style=\"text-align: right;\">\n",
       "      <th></th>\n",
       "      <th>BI-RADS assessment</th>\n",
       "      <th>Age</th>\n",
       "      <th>Shape</th>\n",
       "      <th>Margin</th>\n",
       "      <th>Density</th>\n",
       "      <th>Severity</th>\n",
       "    </tr>\n",
       "  </thead>\n",
       "  <tbody>\n",
       "    <tr>\n",
       "      <th>0</th>\n",
       "      <td>5</td>\n",
       "      <td>67</td>\n",
       "      <td>3</td>\n",
       "      <td>5</td>\n",
       "      <td>3</td>\n",
       "      <td>1</td>\n",
       "    </tr>\n",
       "    <tr>\n",
       "      <th>1</th>\n",
       "      <td>4</td>\n",
       "      <td>43</td>\n",
       "      <td>1</td>\n",
       "      <td>1</td>\n",
       "      <td>NaN</td>\n",
       "      <td>1</td>\n",
       "    </tr>\n",
       "    <tr>\n",
       "      <th>2</th>\n",
       "      <td>5</td>\n",
       "      <td>58</td>\n",
       "      <td>4</td>\n",
       "      <td>5</td>\n",
       "      <td>3</td>\n",
       "      <td>1</td>\n",
       "    </tr>\n",
       "    <tr>\n",
       "      <th>3</th>\n",
       "      <td>4</td>\n",
       "      <td>28</td>\n",
       "      <td>1</td>\n",
       "      <td>1</td>\n",
       "      <td>3</td>\n",
       "      <td>0</td>\n",
       "    </tr>\n",
       "    <tr>\n",
       "      <th>4</th>\n",
       "      <td>5</td>\n",
       "      <td>74</td>\n",
       "      <td>1</td>\n",
       "      <td>5</td>\n",
       "      <td>NaN</td>\n",
       "      <td>1</td>\n",
       "    </tr>\n",
       "    <tr>\n",
       "      <th>...</th>\n",
       "      <td>...</td>\n",
       "      <td>...</td>\n",
       "      <td>...</td>\n",
       "      <td>...</td>\n",
       "      <td>...</td>\n",
       "      <td>...</td>\n",
       "    </tr>\n",
       "    <tr>\n",
       "      <th>956</th>\n",
       "      <td>4</td>\n",
       "      <td>47</td>\n",
       "      <td>2</td>\n",
       "      <td>1</td>\n",
       "      <td>3</td>\n",
       "      <td>0</td>\n",
       "    </tr>\n",
       "    <tr>\n",
       "      <th>957</th>\n",
       "      <td>4</td>\n",
       "      <td>56</td>\n",
       "      <td>4</td>\n",
       "      <td>5</td>\n",
       "      <td>3</td>\n",
       "      <td>1</td>\n",
       "    </tr>\n",
       "    <tr>\n",
       "      <th>958</th>\n",
       "      <td>4</td>\n",
       "      <td>64</td>\n",
       "      <td>4</td>\n",
       "      <td>5</td>\n",
       "      <td>3</td>\n",
       "      <td>0</td>\n",
       "    </tr>\n",
       "    <tr>\n",
       "      <th>959</th>\n",
       "      <td>5</td>\n",
       "      <td>66</td>\n",
       "      <td>4</td>\n",
       "      <td>5</td>\n",
       "      <td>3</td>\n",
       "      <td>1</td>\n",
       "    </tr>\n",
       "    <tr>\n",
       "      <th>960</th>\n",
       "      <td>4</td>\n",
       "      <td>62</td>\n",
       "      <td>3</td>\n",
       "      <td>3</td>\n",
       "      <td>3</td>\n",
       "      <td>0</td>\n",
       "    </tr>\n",
       "  </tbody>\n",
       "</table>\n",
       "<p>961 rows × 6 columns</p>\n",
       "</div>"
      ],
      "text/plain": [
       "    BI-RADS assessment Age Shape Margin Density  Severity\n",
       "0                    5  67     3      5       3         1\n",
       "1                    4  43     1      1     NaN         1\n",
       "2                    5  58     4      5       3         1\n",
       "3                    4  28     1      1       3         0\n",
       "4                    5  74     1      5     NaN         1\n",
       "..                 ...  ..   ...    ...     ...       ...\n",
       "956                  4  47     2      1       3         0\n",
       "957                  4  56     4      5       3         1\n",
       "958                  4  64     4      5       3         0\n",
       "959                  5  66     4      5       3         1\n",
       "960                  4  62     3      3       3         0\n",
       "\n",
       "[961 rows x 6 columns]"
      ]
     },
     "execution_count": 11,
     "metadata": {},
     "output_type": "execute_result"
    }
   ],
   "source": [
    "clean_df"
   ]
  },
  {
   "cell_type": "code",
   "execution_count": 12,
   "metadata": {},
   "outputs": [
    {
     "data": {
      "text/plain": [
       "BI-RADS assessment     2\n",
       "Age                    5\n",
       "Shape                 31\n",
       "Margin                48\n",
       "Density               76\n",
       "Severity               0\n",
       "dtype: int64"
      ]
     },
     "execution_count": 12,
     "metadata": {},
     "output_type": "execute_result"
    }
   ],
   "source": [
    "# Check the missing rows\n",
    "clean_df.isna().sum()"
   ]
  },
  {
   "cell_type": "markdown",
   "metadata": {},
   "source": [
    "__Tasks:__\n",
    "\n",
    "-  From hereon, we are focusing on the complete data set. Given enough time, you should tihink about how to treat missing data and incorporate additional information into your model.\n",
    "- Separate features and diagnosis columns."
   ]
  },
  {
   "cell_type": "code",
   "execution_count": 13,
   "metadata": {},
   "outputs": [],
   "source": [
    "# Get the index of the missing data\n",
    "clean_df.dropna(how='any', inplace=True)"
   ]
  },
  {
   "cell_type": "code",
   "execution_count": 14,
   "metadata": {},
   "outputs": [
    {
     "name": "stdout",
     "output_type": "stream",
     "text": [
      "<class 'pandas.core.frame.DataFrame'>\n",
      "Int64Index: 830 entries, 0 to 960\n",
      "Data columns (total 6 columns):\n",
      "BI-RADS assessment    830 non-null int64\n",
      "Age                   830 non-null int64\n",
      "Shape                 830 non-null int64\n",
      "Margin                830 non-null int64\n",
      "Density               830 non-null int64\n",
      "Severity              830 non-null int64\n",
      "dtypes: int64(6)\n",
      "memory usage: 45.4 KB\n"
     ]
    }
   ],
   "source": [
    "# Convert data into ints\n",
    "clean_df = clean_df.astype(int)\n",
    "\n",
    "# Check the type\n",
    "clean_df.info()"
   ]
  },
  {
   "cell_type": "code",
   "execution_count": 15,
   "metadata": {},
   "outputs": [
    {
     "data": {
      "text/plain": [
       "(830, 5)"
      ]
     },
     "execution_count": 15,
     "metadata": {},
     "output_type": "execute_result"
    }
   ],
   "source": [
    "# Separate into features and diagnosis\n",
    "clean_df = clean_df.sort_values(['Age'])\n",
    "diagnosis = clean_df['Severity']\n",
    "features = clean_df.drop(columns='Severity')\n",
    "\n",
    "# Check shape\n",
    "features.shape"
   ]
  },
  {
   "cell_type": "markdown",
   "metadata": {},
   "source": [
    "__Tasks:__\n",
    "\n",
    "- Perform summary statistics on the feature data set."
   ]
  },
  {
   "cell_type": "code",
   "execution_count": 16,
   "metadata": {},
   "outputs": [
    {
     "data": {
      "text/html": [
       "<div>\n",
       "<style scoped>\n",
       "    .dataframe tbody tr th:only-of-type {\n",
       "        vertical-align: middle;\n",
       "    }\n",
       "\n",
       "    .dataframe tbody tr th {\n",
       "        vertical-align: top;\n",
       "    }\n",
       "\n",
       "    .dataframe thead th {\n",
       "        text-align: right;\n",
       "    }\n",
       "</style>\n",
       "<table border=\"1\" class=\"dataframe\">\n",
       "  <thead>\n",
       "    <tr style=\"text-align: right;\">\n",
       "      <th></th>\n",
       "      <th>BI-RADS assessment</th>\n",
       "      <th>Age</th>\n",
       "      <th>Shape</th>\n",
       "      <th>Margin</th>\n",
       "      <th>Density</th>\n",
       "    </tr>\n",
       "  </thead>\n",
       "  <tbody>\n",
       "    <tr>\n",
       "      <th>count</th>\n",
       "      <td>830.000000</td>\n",
       "      <td>830.000000</td>\n",
       "      <td>830.000000</td>\n",
       "      <td>830.000000</td>\n",
       "      <td>830.000000</td>\n",
       "    </tr>\n",
       "    <tr>\n",
       "      <th>mean</th>\n",
       "      <td>4.393976</td>\n",
       "      <td>55.781928</td>\n",
       "      <td>2.781928</td>\n",
       "      <td>2.813253</td>\n",
       "      <td>2.915663</td>\n",
       "    </tr>\n",
       "    <tr>\n",
       "      <th>std</th>\n",
       "      <td>1.888371</td>\n",
       "      <td>14.671782</td>\n",
       "      <td>1.242361</td>\n",
       "      <td>1.567175</td>\n",
       "      <td>0.350936</td>\n",
       "    </tr>\n",
       "    <tr>\n",
       "      <th>min</th>\n",
       "      <td>0.000000</td>\n",
       "      <td>18.000000</td>\n",
       "      <td>1.000000</td>\n",
       "      <td>1.000000</td>\n",
       "      <td>1.000000</td>\n",
       "    </tr>\n",
       "    <tr>\n",
       "      <th>25%</th>\n",
       "      <td>4.000000</td>\n",
       "      <td>46.000000</td>\n",
       "      <td>2.000000</td>\n",
       "      <td>1.000000</td>\n",
       "      <td>3.000000</td>\n",
       "    </tr>\n",
       "    <tr>\n",
       "      <th>50%</th>\n",
       "      <td>4.000000</td>\n",
       "      <td>57.000000</td>\n",
       "      <td>3.000000</td>\n",
       "      <td>3.000000</td>\n",
       "      <td>3.000000</td>\n",
       "    </tr>\n",
       "    <tr>\n",
       "      <th>75%</th>\n",
       "      <td>5.000000</td>\n",
       "      <td>66.000000</td>\n",
       "      <td>4.000000</td>\n",
       "      <td>4.000000</td>\n",
       "      <td>3.000000</td>\n",
       "    </tr>\n",
       "    <tr>\n",
       "      <th>max</th>\n",
       "      <td>55.000000</td>\n",
       "      <td>96.000000</td>\n",
       "      <td>4.000000</td>\n",
       "      <td>5.000000</td>\n",
       "      <td>4.000000</td>\n",
       "    </tr>\n",
       "  </tbody>\n",
       "</table>\n",
       "</div>"
      ],
      "text/plain": [
       "       BI-RADS assessment         Age       Shape      Margin     Density\n",
       "count          830.000000  830.000000  830.000000  830.000000  830.000000\n",
       "mean             4.393976   55.781928    2.781928    2.813253    2.915663\n",
       "std              1.888371   14.671782    1.242361    1.567175    0.350936\n",
       "min              0.000000   18.000000    1.000000    1.000000    1.000000\n",
       "25%              4.000000   46.000000    2.000000    1.000000    3.000000\n",
       "50%              4.000000   57.000000    3.000000    3.000000    3.000000\n",
       "75%              5.000000   66.000000    4.000000    4.000000    3.000000\n",
       "max             55.000000   96.000000    4.000000    5.000000    4.000000"
      ]
     },
     "execution_count": 16,
     "metadata": {},
     "output_type": "execute_result"
    }
   ],
   "source": [
    "# Get summary statistics\n",
    "features.describe()"
   ]
  },
  {
   "cell_type": "markdown",
   "metadata": {},
   "source": [
    "__Tasks:__\n",
    "\n",
    "- Perform visual inspection of your data set by plotting all values of a single column as a distribution, bar or histogram plots. Plot scatter plots between two different features. Plot anything that might give you a better understanding about your data set.\n",
    "\n",
    "- Which plots are suited for which data?\n",
    "\n",
    "- Investigate what one can plot using _matplotlib_ and _seaborn_ visualisation libraries. As _seaborn_ provides a high-level interface to _matplotlib_, it is suggested to start of with _seaborn_."
   ]
  },
  {
   "cell_type": "code",
   "execution_count": 17,
   "metadata": {},
   "outputs": [
    {
     "data": {
      "image/png": "[encoded data removed]",
      "text/plain": [
       "<Figure size 432x288 with 1 Axes>"
      ]
     },
     "metadata": {
      "needs_background": "light"
     },
     "output_type": "display_data"
    },
    {
     "data": {
      "image/png": "[encoded data removed]",
      "text/plain": [
       "<Figure size 432x288 with 1 Axes>"
      ]
     },
     "metadata": {
      "needs_background": "light"
     },
     "output_type": "display_data"
    },
    {
     "data": {
      "image/png": "[encoded data removed]",
      "text/plain": [
       "<Figure size 432x288 with 1 Axes>"
      ]
     },
     "metadata": {
      "needs_background": "light"
     },
     "output_type": "display_data"
    },
    {
     "data": {
      "image/png": "[encoded data removed]",
      "text/plain": [
       "<Figure size 432x288 with 1 Axes>"
      ]
     },
     "metadata": {
      "needs_background": "light"
     },
     "output_type": "display_data"
    },
    {
     "data": {
      "image/png": "[encoded data removed]",
      "text/plain": [
       "<Figure size 432x288 with 1 Axes>"
      ]
     },
     "metadata": {
      "needs_background": "light"
     },
     "output_type": "display_data"
    }
   ],
   "source": [
    "# Visualize single feature values as a bar plot\n",
    "for column in features.columns:\n",
    "    plt.figure()\n",
    "    plt.title(column)\n",
    "    sns.distplot(features[column])"
   ]
  },
  {
   "cell_type": "code",
   "execution_count": 18,
   "metadata": {},
   "outputs": [],
   "source": [
    "# We can see that we have one value for the BID-RADS assessment which is an outlier. All BI-RADS\n",
    "# values should be between 1-6\n",
    "idx_to_remove = features[features['BI-RADS assessment'] > 6].index\n",
    "features.drop(idx_to_remove, inplace=True)\n",
    "# Remove the prediction for these outlier\n",
    "diagnosis.drop(idx_to_remove, inplace=True)"
   ]
  },
  {
   "cell_type": "code",
   "execution_count": 19,
   "metadata": {},
   "outputs": [
    {
     "data": {
      "text/plain": [
       "<seaborn.axisgrid.PairGrid at 0x1231958d0>"
      ]
     },
     "execution_count": 19,
     "metadata": {},
     "output_type": "execute_result"
    },
    {
     "data": {
      "image/png": "[encoded data removed]",
      "text/plain": [
       "<Figure size 900x900 with 30 Axes>"
      ]
     },
     "metadata": {
      "needs_background": "light"
     },
     "output_type": "display_data"
    }
   ],
   "source": [
    "# Get an overviwe of how different features relate to each other\n",
    "sns.pairplot(features)"
   ]
  },
  {
   "cell_type": "markdown",
   "metadata": {},
   "source": [
    "__Tasks:__\n",
    "\n",
    "- Perfom a cross-correlation analysis of your features. Investigate which features do or not cross-correlate. Given all you know about the data set, can you tell why do you observe such behaviour?\n",
    "\n",
    "- Perhaps, can you tell which features will be more important in modelling cancer biopsy outcomes?\n",
    "\n",
    "- What assumptions are used to calculate correlation scores? Why they might be important here?"
   ]
  },
  {
   "cell_type": "code",
   "execution_count": 20,
   "metadata": {},
   "outputs": [
    {
     "data": {
      "text/plain": [
       "<matplotlib.axes._subplots.AxesSubplot at 0x123ab82d0>"
      ]
     },
     "execution_count": 20,
     "metadata": {},
     "output_type": "execute_result"
    },
    {
     "data": {
      "image/png": "[encoded data removed]",
      "text/plain": [
       "<Figure size 432x288 with 2 Axes>"
      ]
     },
     "metadata": {
      "needs_background": "light"
     },
     "output_type": "display_data"
    }
   ],
   "source": [
    "# Correlation heatmap using pandas and seaborn functionalities\n",
    "correlation = features.corr()\n",
    "sns.heatmap(correlation, annot=True)"
   ]
  },
  {
   "cell_type": "markdown",
   "metadata": {},
   "source": [
    "We can see that Shape and Margin have a high correlation. Threfore, we could either combine or drop one of these features as they might not add any additional information to our model."
   ]
  },
  {
   "cell_type": "markdown",
   "metadata": {},
   "source": [
    "#### Preparation of training and test data sets\n",
    "\n",
    "In this section, we will prepare training and test data sets. We will train our selected machine learning models on a training data set (i.e a subset of the complete data set). Once, training is complete, we will predict diagnosis outcomes of a test data set (i.e the rest of the complete data set).\n",
    "\n",
    "Preparation of training and test sets is a crucial point of a machine learning protocols that will allow us to quantify how well our model works. We will be able to quantify model's performance using a set of statistical metrics."
   ]
  },
  {
   "cell_type": "markdown",
   "metadata": {},
   "source": [
    "__Tasks:__\n",
    "\n",
    "- Transform diagnosis data set into appropriate labels: benign=0 or malignant=1. Use the available functionality of LabelEncoder() to do that, even, if the initial diagnosis data set has the right labels. LabelEncoder() will return data in a right array shape."
   ]
  },
  {
   "cell_type": "code",
   "execution_count": 21,
   "metadata": {},
   "outputs": [
    {
     "name": "stdout",
     "output_type": "stream",
     "text": [
      "<class 'pandas.core.series.Series'>\n",
      "<class 'numpy.ndarray'>\n"
     ]
    }
   ],
   "source": [
    "# Use method of LabelEncoder()\n",
    "print(type(diagnosis))\n",
    "le = LabelEncoder()\n",
    "diagnosis_le = le.fit_transform(diagnosis)\n",
    "print(type(diagnosis_le))"
   ]
  },
  {
   "cell_type": "code",
   "execution_count": 22,
   "metadata": {},
   "outputs": [
    {
     "data": {
      "text/plain": [
       "<matplotlib.axes._subplots.AxesSubplot at 0x123fb6550>"
      ]
     },
     "execution_count": 22,
     "metadata": {},
     "output_type": "execute_result"
    },
    {
     "data": {
      "image/png": "[encoded data removed]",
      "text/plain": [
       "<Figure size 432x288 with 1 Axes>"
      ]
     },
     "metadata": {
      "needs_background": "light"
     },
     "output_type": "display_data"
    }
   ],
   "source": [
    "# Check the label distribution\n",
    "sns.countplot(diagnosis_le)"
   ]
  },
  {
   "cell_type": "markdown",
   "metadata": {},
   "source": [
    "__Tasks:__\n",
    "\n",
    "- Prepare training and test datasets using _scikit-learn_ by controlling the ration of data splitting.\n",
    "- Once you finish with a first classifier, investigate the effect of ratio splitting on your model's ability to predict the outcome of biopsy outcome. In such case, what is the minimum training data ratio is required to effectively predict biopsy outcome?"
   ]
  },
  {
   "cell_type": "code",
   "execution_count": 23,
   "metadata": {},
   "outputs": [],
   "source": [
    "# Define the proportion between training and test datasets\n",
    "proportion = 0.2\n",
    "\n",
    "# Split the dataset (random_state for analysis reproducibility)\n",
    "X_train, X_test, y_train, y_test = train_test_split(features, diagnosis_le, test_size=proportion, random_state=1234)"
   ]
  },
  {
   "cell_type": "markdown",
   "metadata": {},
   "source": [
    "#### Logistic regression\n",
    "\n",
    "Let's choose logistic regression for training and classifying biopsy outcomes.\n",
    "\n",
    "__Tasks:__\n",
    "\n",
    "- Initialize a LogisticRegression model. Select Limited-memory BFGS algorithm as a solver for regression minimizaition. Set maximum number of iterations taken for the solver to converge to 5000.\n",
    "\n",
    "- Fit a LogisticRegression model on training data set.\n",
    "\n",
    "- Predict diagnosis labels for feature test data set.\n",
    "\n",
    "- Investigate other LogisticRegression model parameters. Is there anything you can do to improve the prediction accuracy? "
   ]
  },
  {
   "cell_type": "code",
   "execution_count": 24,
   "metadata": {},
   "outputs": [],
   "source": [
    "# Initialise Logistic Regression\n",
    "logreg = LogisticRegression(solver='lbfgs', max_iter=5000, random_state=1234)\n",
    "\n",
    "# Fit logistic regression model based on training data\n",
    "logreg.fit(X_train, y_train)\n",
    "\n",
    "# Predict labels based on test dataset\n",
    "y_pred = logreg.predict(X_test) "
   ]
  },
  {
   "cell_type": "markdown",
   "metadata": {},
   "source": [
    "__Tasks:__\n",
    "\n",
    "- Investigate the performance of your model by calculating accuracy of your regression model."
   ]
  },
  {
   "cell_type": "code",
   "execution_count": 25,
   "metadata": {},
   "outputs": [
    {
     "name": "stdout",
     "output_type": "stream",
     "text": [
      "Accuracy of logistic regression classifier on test set: 0.77\n"
     ]
    }
   ],
   "source": [
    "# Get the accuracy\n",
    "logreg_accuracy = accuracy_score(y_test, y_pred)\n",
    "# The mean accuracy on the given test data and labels\n",
    "print('Accuracy of logistic regression classifier on test set: {:.2f}'.format(logreg_accuracy))"
   ]
  },
  {
   "cell_type": "markdown",
   "metadata": {},
   "source": [
    "__Tasks:__\n",
    "\n",
    "- Print out a confusion matrix to explain the performance of a learning algorithm. Confusion matrix is simply a square matrix that reports the counts of the true positives, true negatives, false positives and false negatives.\n",
    "- Make sure to understand which parts of confusion matrix are what!"
   ]
  },
  {
   "cell_type": "code",
   "execution_count": 26,
   "metadata": {},
   "outputs": [
    {
     "data": {
      "text/plain": [
       "Text(33.0, 0.5, 'True Severity')"
      ]
     },
     "execution_count": 26,
     "metadata": {},
     "output_type": "execute_result"
    },
    {
     "data": {
      "image/png": "[encoded data removed]",
      "text/plain": [
       "<Figure size 432x288 with 1 Axes>"
      ]
     },
     "metadata": {
      "needs_background": "light"
     },
     "output_type": "display_data"
    }
   ],
   "source": [
    "# Calculate confusion matrix\n",
    "conf_mat = confusion_matrix(y_test, y_pred)\n",
    "\n",
    "# Plot confusion matrix heatmap\n",
    "ax = sns.heatmap(conf_mat, annot=True, cbar=False)\n",
    "plt.xlabel('Predicted Severity')\n",
    "plt.ylabel('True Severity')"
   ]
  },
  {
   "cell_type": "markdown",
   "metadata": {},
   "source": [
    "__Tasks:__\n",
    "\n",
    "- Use classification report to provide global overview of prediction in terms of precision, recall and f1-score. See _scikit-learn_ for more information. \n",
    "- One will be able to observe, how well prediction is performed for specific labels. Why a certain label has a higher prediction score than the other?"
   ]
  },
  {
   "cell_type": "code",
   "execution_count": 27,
   "metadata": {},
   "outputs": [
    {
     "name": "stdout",
     "output_type": "stream",
     "text": [
      "              precision    recall  f1-score   support\n",
      "\n",
      "           0       0.75      0.79      0.77        81\n",
      "           1       0.79      0.75      0.77        85\n",
      "\n",
      "    accuracy                           0.77       166\n",
      "   macro avg       0.77      0.77      0.77       166\n",
      "weighted avg       0.77      0.77      0.77       166\n",
      "\n"
     ]
    }
   ],
   "source": [
    "# Print out classification_report\n",
    "scores = classification_report(y_test, y_pred)\n",
    "print(scores)"
   ]
  },
  {
   "cell_type": "markdown",
   "metadata": {},
   "source": [
    "__Tasks:__ \n",
    "\n",
    "- Plot a receiver operating characteristic (ROC) plot. Such graph is useful for selecting models based for classification based on their performance with respect to the false positive and true positive rates.  \n",
    "- Once, you have multiple classification models, plot multiple ROC curves to compare classification accuracies. "
   ]
  },
  {
   "cell_type": "code",
   "execution_count": 28,
   "metadata": {},
   "outputs": [
    {
     "data": {
      "text/plain": [
       "<matplotlib.legend.Legend at 0x12412be90>"
      ]
     },
     "execution_count": 28,
     "metadata": {},
     "output_type": "execute_result"
    },
    {
     "data": {
      "image/png": "[encoded data removed]",
      "text/plain": [
       "<Figure size 432x288 with 1 Axes>"
      ]
     },
     "metadata": {
      "needs_background": "light"
     },
     "output_type": "display_data"
    }
   ],
   "source": [
    "# Calculate ROC curve\n",
    "logit_roc_auc = roc_auc_score(y_test, y_pred)\n",
    "\n",
    "# Calculate the probability for the second class\n",
    "predict_prob = logreg.predict_proba(X_test)[:,1]\n",
    "fpr, tpr, thresholds = roc_curve(y_test, predict_prob)\n",
    "\n",
    "# Plot ROC curve\n",
    "plt.plot(fpr, tpr, label='Logistic Regression (area = %0.2f)' % logit_roc_auc)\n",
    "plt.plot([0, 1], [0, 1],'r--')\n",
    "plt.xlim([0.0, 1.0])\n",
    "plt.ylim([0.0, 1.05])\n",
    "plt.xlabel('False Positive Rate')\n",
    "plt.ylabel('True Positive Rate')\n",
    "plt.title('Receiver operating characteristic')\n",
    "plt.legend(loc=\"lower right\")"
   ]
  },
  {
   "cell_type": "markdown",
   "metadata": {},
   "source": [
    "#### Random Forests\n",
    "\n",
    "_Tour de force_ of Logistic Regression allowed us to use multiple tools for setting up and analysing a basic machine learning algorithm. Now, we will introduce another classifier - Random Forests - to perform the prediction of breast cancer biopsies.\n",
    "\n",
    "Intuitively, Random Forests can be considered as an ensemble of Decision Trees. A Decision Tree is a model where one breaks down our data of interest by making decision based on asking a series of questions. By running multiple Decision Trees one asign class labels by a majority vote."
   ]
  },
  {
   "cell_type": "markdown",
   "metadata": {},
   "source": [
    "__Tasks:__\n",
    "\n",
    "- Use your in training and test sets split.\n",
    "- Initialize a Random Forest classifier.\n",
    "- Train and predict biopsy outcomes using a new classifier."
   ]
  },
  {
   "cell_type": "code",
   "execution_count": 29,
   "metadata": {},
   "outputs": [],
   "source": [
    "# Initialize a Random Forest\n",
    "rf = RandomForestClassifier(n_estimators=100, oob_score=True)\n",
    "\n",
    "# Train and predict with your Random Forest model\n",
    "rf.fit(X_train, y_train)\n",
    "\n",
    "y_pred = rf.predict(X_test)"
   ]
  },
  {
   "cell_type": "code",
   "execution_count": 30,
   "metadata": {},
   "outputs": [
    {
     "data": {
      "text/plain": [
       "RandomForestClassifier(bootstrap=True, class_weight=None, criterion='gini',\n",
       "                       max_depth=None, max_features='auto', max_leaf_nodes=None,\n",
       "                       min_impurity_decrease=0.0, min_impurity_split=None,\n",
       "                       min_samples_leaf=1, min_samples_split=2,\n",
       "                       min_weight_fraction_leaf=0.0, n_estimators=100,\n",
       "                       n_jobs=None, oob_score=True, random_state=None,\n",
       "                       verbose=0, warm_start=False)"
      ]
     },
     "execution_count": 30,
     "metadata": {},
     "output_type": "execute_result"
    }
   ],
   "source": [
    "# Check parameters the Random Forest\n",
    "rf"
   ]
  },
  {
   "cell_type": "markdown",
   "metadata": {},
   "source": [
    "__Tasks:__\n",
    "\n",
    "- Calculate the following  scores:     \n",
    "    * model accuracy\n",
    "    * precision\n",
    "    * recall\n",
    "    * F1\n",
    "    * ROC\n",
    "    * area under the curve\n",
    "    * Matthew's correlation coefficient\n",
    "    * Matthew's correlation\n",
    "    * Confusion matrix\n",
    "    * Out-of-bag error."
   ]
  },
  {
   "cell_type": "code",
   "execution_count": 31,
   "metadata": {},
   "outputs": [
    {
     "name": "stdout",
     "output_type": "stream",
     "text": [
      "Accuracy: 0.79\n",
      "\n",
      "              precision    recall  f1-score   support\n",
      "\n",
      "           0       0.76      0.83      0.79        81\n",
      "           1       0.82      0.75      0.79        85\n",
      "\n",
      "    accuracy                           0.79       166\n",
      "   macro avg       0.79      0.79      0.79       166\n",
      "weighted avg       0.79      0.79      0.79       166\n",
      "\n"
     ]
    }
   ],
   "source": [
    "# Get metrics on model performance\n",
    "print('Accuracy: %.2f' %accuracy_score(y_test, y_pred))\n",
    "\n",
    "print()\n",
    "print(classification_report(y_test, y_pred))"
   ]
  },
  {
   "cell_type": "code",
   "execution_count": 32,
   "metadata": {},
   "outputs": [
    {
     "data": {
      "text/plain": [
       "<matplotlib.legend.Legend at 0x1240f58d0>"
      ]
     },
     "execution_count": 32,
     "metadata": {},
     "output_type": "execute_result"
    },
    {
     "data": {
      "image/png": "[encoded data removed]",
      "text/plain": [
       "<Figure size 432x288 with 1 Axes>"
      ]
     },
     "metadata": {
      "needs_background": "light"
     },
     "output_type": "display_data"
    }
   ],
   "source": [
    "rf_roc_auc = roc_auc_score(y_test, y_pred)\n",
    "\n",
    "# Calculate the probability for the second class\n",
    "predict_prob = rf.predict_proba(X_test)[:,1]\n",
    "fpr, tpr, thresholds = roc_curve(y_test, predict_prob)\n",
    "\n",
    "# Plot ROC curve\n",
    "plt.plot(fpr, tpr, label='Logistic Regression (area = %0.2f)' % logit_roc_auc)\n",
    "plt.plot([0, 1], [0, 1],'r--')\n",
    "plt.xlim([0.0, 1.0])\n",
    "plt.ylim([0.0, 1.05])\n",
    "plt.xlabel('False Positive Rate')\n",
    "plt.ylabel('True Positive Rate')\n",
    "plt.title('Receiver operating characteristic')\n",
    "plt.legend(loc=\"lower right\")"
   ]
  },
  {
   "cell_type": "code",
   "execution_count": 33,
   "metadata": {},
   "outputs": [
    {
     "name": "stdout",
     "output_type": "stream",
     "text": [
      "Matthews Correlation coefficient: 0.581\n"
     ]
    }
   ],
   "source": [
    "# Matthews correlation coefficient is a measure of the quality classifications. It takes into account the\n",
    "# TP and FP. It is normally used if the classes have different sizes. MCC valeus can vary between -1 and 1.\n",
    "# A coefficient of +1 represents a perfect prediction, 0 an average random prediction and -1 an inverse prediction. \n",
    "mcc = matthews_corrcoef(y_test, y_pred)\n",
    "print('Matthews Correlation coefficient: %.3f' %mcc)"
   ]
  },
  {
   "cell_type": "code",
   "execution_count": 34,
   "metadata": {},
   "outputs": [
    {
     "data": {
      "text/plain": [
       "Text(33.0, 0.5, 'True Severity')"
      ]
     },
     "execution_count": 34,
     "metadata": {},
     "output_type": "execute_result"
    },
    {
     "data": {
      "image/png": "[encoded data removed]",
      "text/plain": [
       "<Figure size 432x288 with 1 Axes>"
      ]
     },
     "metadata": {
      "needs_background": "light"
     },
     "output_type": "display_data"
    }
   ],
   "source": [
    "# Calculate confusion matrix\n",
    "conf_mat = confusion_matrix(y_test, y_pred)\n",
    "\n",
    "# Plot confusion matrix heatmap\n",
    "ax = sns.heatmap(conf_mat, annot=True, cbar=False)\n",
    "plt.xlabel('Predicted Severity')\n",
    "plt.ylabel('True Severity')"
   ]
  },
  {
   "cell_type": "code",
   "execution_count": 35,
   "metadata": {},
   "outputs": [
    {
     "name": "stdout",
     "output_type": "stream",
     "text": [
      "OOB : 0.795\n"
     ]
    }
   ],
   "source": [
    "# Out-of-bag-error is a prediction error specific for random forest or bagging models. \n",
    "# OOB is the mean prediction of each training sample x_i using trees that did not have that x_i in their bootstrap\n",
    "# sample\n",
    "\n",
    "print('OOB : %.3f' %rf.oob_score_)"
   ]
  },
  {
   "cell_type": "markdown",
   "metadata": {},
   "source": [
    "__Tasks:__\n",
    "\n",
    "- Random forest classifier can be useful, because it provides importance of training features for classification prediction. Calculate the importance of each feature. \n",
    "- Does this make sense with what we already know?"
   ]
  },
  {
   "cell_type": "code",
   "execution_count": 37,
   "metadata": {},
   "outputs": [
    {
     "data": {
      "text/plain": [
       "<matplotlib.axes._subplots.AxesSubplot at 0x123f5d790>"
      ]
     },
     "execution_count": 37,
     "metadata": {},
     "output_type": "execute_result"
    },
    {
     "data": {
      "image/png": "[encoded data removed]",
      "text/plain": [
       "<Figure size 432x288 with 1 Axes>"
      ]
     },
     "metadata": {
      "needs_background": "light"
     },
     "output_type": "display_data"
    }
   ],
   "source": [
    "# Get feature importances of random forest classifier\n",
    "feature_imp = rf.feature_importances_\n",
    "feature_imp_df = pd.Series(feature_imp, index=features.columns)\n",
    "sns.barplot(feature_imp_df.index, feature_imp_df.values)"
   ]
  },
  {
   "cell_type": "markdown",
   "metadata": {},
   "source": [
    "__Tasks:__\n",
    "\n",
    "- Plot importance of features as a bar plot with error bars. Using the standard deviation for each tree"
   ]
  },
  {
   "cell_type": "code",
   "execution_count": 38,
   "metadata": {},
   "outputs": [
    {
     "data": {
      "text/plain": [
       "<ErrorbarContainer object of 3 artists>"
      ]
     },
     "execution_count": 38,
     "metadata": {},
     "output_type": "execute_result"
    },
    {
     "data": {
      "image/png": "[encoded data removed]",
      "text/plain": [
       "<Figure size 432x288 with 1 Axes>"
      ]
     },
     "metadata": {
      "needs_background": "light"
     },
     "output_type": "display_data"
    }
   ],
   "source": [
    "# Plot the feature importances of the forest\n",
    "std = np.std([tree.feature_importances_ for tree in rf.estimators_], axis=0)\n",
    "sns.barplot(feature_imp_df.index, feature_imp_df.values, ci=None)\n",
    "plt.errorbar(x=range(feature_imp_df.shape[0]), y=feature_imp_df, yerr=std, fmt='none', c='k')"
   ]
  },
  {
   "cell_type": "markdown",
   "metadata": {},
   "source": [
    "__Tasks:__\n",
    "\n",
    "- Perform hyperparameter tuning for RandomForest Classifier using GridSearch. Find the best set of hyperparameters to perform model training. \n",
    "- What are other ways to search for hyperparameters? Which ones could be better and why?"
   ]
  },
  {
   "cell_type": "code",
   "execution_count": 39,
   "metadata": {},
   "outputs": [
    {
     "name": "stdout",
     "output_type": "stream",
     "text": [
      "{'n_estimators': [10, 231, 452, 673, 894, 1115, 1336, 1557, 1778, 2000], 'max_depth': [10, 20, 30, 40, 50, 60, 70, 80, 90, 100, 110], 'min_samples_split': [2, 5, 10], 'criterion': ['gini', 'entropy'], 'min_samples_leaf': [1, 2, 5]}\n"
     ]
    }
   ],
   "source": [
    "from sklearn.model_selection import RandomizedSearchCV\n",
    "\n",
    "# Number of tress\n",
    "n_estimators = [int(x) for x in np.linspace(start=10, stop=2000, num=10)]\n",
    "# Maximum number of levels in tree\n",
    "max_depth = [int(x) for x in np.linspace(10, 110, num = 11)]\n",
    "# Minimum number of samples required to split a node\n",
    "min_samples_split = [2, 5, 10]\n",
    "# Which value to measure the quality of the split\n",
    "criterion = ['gini', 'entropy']\n",
    "# The minimum number of samples required to be at a leaf node. \n",
    "min_samples_leaf = [1, 2, 5]\n",
    "\n",
    "# Create the random grid\n",
    "random_grid = {'n_estimators': n_estimators,\n",
    "               'max_depth': max_depth,\n",
    "               'min_samples_split': min_samples_split,\n",
    "               'criterion': criterion,\n",
    "               'min_samples_leaf': min_samples_leaf}\n",
    "print(random_grid)"
   ]
  },
  {
   "cell_type": "code",
   "execution_count": 40,
   "metadata": {},
   "outputs": [],
   "source": [
    "# number of times to test perform the cross-validation\n",
    "n_searches = 30\n",
    "# Perform random search\n",
    "rf = RandomForestClassifier(bootstrap=True)\n",
    "# Random search of parameters, using 3 fold cross validation, \n",
    "# search across 100 different combinations, and use all available cores\n",
    "rf_random = RandomizedSearchCV(estimator=rf, \n",
    "                               param_distributions=random_grid,\n",
    "                               n_iter=n_searches,\n",
    "                               cv=3,\n",
    "                               verbose=2,\n",
    "                               random_state=42)\n",
    "    "
   ]
  },
  {
   "cell_type": "code",
   "execution_count": 41,
   "metadata": {},
   "outputs": [
    {
     "name": "stdout",
     "output_type": "stream",
     "text": [
      "Fitting 3 folds for each of 30 candidates, totalling 90 fits\n",
      "[CV] n_estimators=1778, min_samples_split=5, min_samples_leaf=5, max_depth=50, criterion=entropy \n"
     ]
    },
    {
     "name": "stderr",
     "output_type": "stream",
     "text": [
      "[Parallel(n_jobs=1)]: Using backend SequentialBackend with 1 concurrent workers.\n"
     ]
    },
    {
     "name": "stdout",
     "output_type": "stream",
     "text": [
      "[CV]  n_estimators=1778, min_samples_split=5, min_samples_leaf=5, max_depth=50, criterion=entropy, total=   2.4s\n",
      "[CV] n_estimators=1778, min_samples_split=5, min_samples_leaf=5, max_depth=50, criterion=entropy \n"
     ]
    },
    {
     "name": "stderr",
     "output_type": "stream",
     "text": [
      "[Parallel(n_jobs=1)]: Done   1 out of   1 | elapsed:    2.4s remaining:    0.0s\n"
     ]
    },
    {
     "name": "stdout",
     "output_type": "stream",
     "text": [
      "[CV]  n_estimators=1778, min_samples_split=5, min_samples_leaf=5, max_depth=50, criterion=entropy, total=   2.5s\n",
      "[CV] n_estimators=1778, min_samples_split=5, min_samples_leaf=5, max_depth=50, criterion=entropy \n",
      "[CV]  n_estimators=1778, min_samples_split=5, min_samples_leaf=5, max_depth=50, criterion=entropy, total=   2.2s\n",
      "[CV] n_estimators=1336, min_samples_split=10, min_samples_leaf=2, max_depth=10, criterion=gini \n",
      "[CV]  n_estimators=1336, min_samples_split=10, min_samples_leaf=2, max_depth=10, criterion=gini, total=   1.6s\n",
      "[CV] n_estimators=1336, min_samples_split=10, min_samples_leaf=2, max_depth=10, criterion=gini \n",
      "[CV]  n_estimators=1336, min_samples_split=10, min_samples_leaf=2, max_depth=10, criterion=gini, total=   1.5s\n",
      "[CV] n_estimators=1336, min_samples_split=10, min_samples_leaf=2, max_depth=10, criterion=gini \n",
      "[CV]  n_estimators=1336, min_samples_split=10, min_samples_leaf=2, max_depth=10, criterion=gini, total=   1.6s\n",
      "[CV] n_estimators=231, min_samples_split=10, min_samples_leaf=5, max_depth=40, criterion=gini \n",
      "[CV]  n_estimators=231, min_samples_split=10, min_samples_leaf=5, max_depth=40, criterion=gini, total=   0.3s\n",
      "[CV] n_estimators=231, min_samples_split=10, min_samples_leaf=5, max_depth=40, criterion=gini \n",
      "[CV]  n_estimators=231, min_samples_split=10, min_samples_leaf=5, max_depth=40, criterion=gini, total=   0.3s\n",
      "[CV] n_estimators=231, min_samples_split=10, min_samples_leaf=5, max_depth=40, criterion=gini \n",
      "[CV]  n_estimators=231, min_samples_split=10, min_samples_leaf=5, max_depth=40, criterion=gini, total=   0.4s\n",
      "[CV] n_estimators=231, min_samples_split=2, min_samples_leaf=5, max_depth=80, criterion=entropy \n",
      "[CV]  n_estimators=231, min_samples_split=2, min_samples_leaf=5, max_depth=80, criterion=entropy, total=   0.3s\n",
      "[CV] n_estimators=231, min_samples_split=2, min_samples_leaf=5, max_depth=80, criterion=entropy \n",
      "[CV]  n_estimators=231, min_samples_split=2, min_samples_leaf=5, max_depth=80, criterion=entropy, total=   0.4s\n",
      "[CV] n_estimators=231, min_samples_split=2, min_samples_leaf=5, max_depth=80, criterion=entropy \n",
      "[CV]  n_estimators=231, min_samples_split=2, min_samples_leaf=5, max_depth=80, criterion=entropy, total=   0.3s\n",
      "[CV] n_estimators=10, min_samples_split=10, min_samples_leaf=1, max_depth=90, criterion=entropy \n",
      "[CV]  n_estimators=10, min_samples_split=10, min_samples_leaf=1, max_depth=90, criterion=entropy, total=   0.0s\n",
      "[CV] n_estimators=10, min_samples_split=10, min_samples_leaf=1, max_depth=90, criterion=entropy \n",
      "[CV]  n_estimators=10, min_samples_split=10, min_samples_leaf=1, max_depth=90, criterion=entropy, total=   0.0s\n",
      "[CV] n_estimators=10, min_samples_split=10, min_samples_leaf=1, max_depth=90, criterion=entropy \n",
      "[CV]  n_estimators=10, min_samples_split=10, min_samples_leaf=1, max_depth=90, criterion=entropy, total=   0.0s\n",
      "[CV] n_estimators=673, min_samples_split=10, min_samples_leaf=5, max_depth=90, criterion=entropy \n",
      "[CV]  n_estimators=673, min_samples_split=10, min_samples_leaf=5, max_depth=90, criterion=entropy, total=   1.1s\n",
      "[CV] n_estimators=673, min_samples_split=10, min_samples_leaf=5, max_depth=90, criterion=entropy \n",
      "[CV]  n_estimators=673, min_samples_split=10, min_samples_leaf=5, max_depth=90, criterion=entropy, total=   0.8s\n",
      "[CV] n_estimators=673, min_samples_split=10, min_samples_leaf=5, max_depth=90, criterion=entropy \n",
      "[CV]  n_estimators=673, min_samples_split=10, min_samples_leaf=5, max_depth=90, criterion=entropy, total=   0.8s\n",
      "[CV] n_estimators=894, min_samples_split=5, min_samples_leaf=1, max_depth=60, criterion=gini \n",
      "[CV]  n_estimators=894, min_samples_split=5, min_samples_leaf=1, max_depth=60, criterion=gini, total=   1.1s\n",
      "[CV] n_estimators=894, min_samples_split=5, min_samples_leaf=1, max_depth=60, criterion=gini \n",
      "[CV]  n_estimators=894, min_samples_split=5, min_samples_leaf=1, max_depth=60, criterion=gini, total=   1.1s\n",
      "[CV] n_estimators=894, min_samples_split=5, min_samples_leaf=1, max_depth=60, criterion=gini \n",
      "[CV]  n_estimators=894, min_samples_split=5, min_samples_leaf=1, max_depth=60, criterion=gini, total=   1.1s\n",
      "[CV] n_estimators=894, min_samples_split=10, min_samples_leaf=2, max_depth=50, criterion=gini \n",
      "[CV]  n_estimators=894, min_samples_split=10, min_samples_leaf=2, max_depth=50, criterion=gini, total=   1.1s\n",
      "[CV] n_estimators=894, min_samples_split=10, min_samples_leaf=2, max_depth=50, criterion=gini \n",
      "[CV]  n_estimators=894, min_samples_split=10, min_samples_leaf=2, max_depth=50, criterion=gini, total=   1.0s\n",
      "[CV] n_estimators=894, min_samples_split=10, min_samples_leaf=2, max_depth=50, criterion=gini \n",
      "[CV]  n_estimators=894, min_samples_split=10, min_samples_leaf=2, max_depth=50, criterion=gini, total=   1.1s\n",
      "[CV] n_estimators=673, min_samples_split=2, min_samples_leaf=2, max_depth=80, criterion=entropy \n",
      "[CV]  n_estimators=673, min_samples_split=2, min_samples_leaf=2, max_depth=80, criterion=entropy, total=   0.8s\n",
      "[CV] n_estimators=673, min_samples_split=2, min_samples_leaf=2, max_depth=80, criterion=entropy \n",
      "[CV]  n_estimators=673, min_samples_split=2, min_samples_leaf=2, max_depth=80, criterion=entropy, total=   0.8s\n",
      "[CV] n_estimators=673, min_samples_split=2, min_samples_leaf=2, max_depth=80, criterion=entropy \n",
      "[CV]  n_estimators=673, min_samples_split=2, min_samples_leaf=2, max_depth=80, criterion=entropy, total=   0.8s\n",
      "[CV] n_estimators=2000, min_samples_split=2, min_samples_leaf=5, max_depth=10, criterion=gini \n",
      "[CV]  n_estimators=2000, min_samples_split=2, min_samples_leaf=5, max_depth=10, criterion=gini, total=   2.2s\n",
      "[CV] n_estimators=2000, min_samples_split=2, min_samples_leaf=5, max_depth=10, criterion=gini \n",
      "[CV]  n_estimators=2000, min_samples_split=2, min_samples_leaf=5, max_depth=10, criterion=gini, total=   2.3s\n",
      "[CV] n_estimators=2000, min_samples_split=2, min_samples_leaf=5, max_depth=10, criterion=gini \n",
      "[CV]  n_estimators=2000, min_samples_split=2, min_samples_leaf=5, max_depth=10, criterion=gini, total=   2.4s\n",
      "[CV] n_estimators=1336, min_samples_split=2, min_samples_leaf=2, max_depth=20, criterion=entropy \n",
      "[CV]  n_estimators=1336, min_samples_split=2, min_samples_leaf=2, max_depth=20, criterion=entropy, total=   1.6s\n",
      "[CV] n_estimators=1336, min_samples_split=2, min_samples_leaf=2, max_depth=20, criterion=entropy \n",
      "[CV]  n_estimators=1336, min_samples_split=2, min_samples_leaf=2, max_depth=20, criterion=entropy, total=   1.6s\n",
      "[CV] n_estimators=1336, min_samples_split=2, min_samples_leaf=2, max_depth=20, criterion=entropy \n",
      "[CV]  n_estimators=1336, min_samples_split=2, min_samples_leaf=2, max_depth=20, criterion=entropy, total=   1.6s\n",
      "[CV] n_estimators=673, min_samples_split=10, min_samples_leaf=5, max_depth=10, criterion=entropy \n",
      "[CV]  n_estimators=673, min_samples_split=10, min_samples_leaf=5, max_depth=10, criterion=entropy, total=   0.8s\n",
      "[CV] n_estimators=673, min_samples_split=10, min_samples_leaf=5, max_depth=10, criterion=entropy \n",
      "[CV]  n_estimators=673, min_samples_split=10, min_samples_leaf=5, max_depth=10, criterion=entropy, total=   0.8s\n",
      "[CV] n_estimators=673, min_samples_split=10, min_samples_leaf=5, max_depth=10, criterion=entropy \n",
      "[CV]  n_estimators=673, min_samples_split=10, min_samples_leaf=5, max_depth=10, criterion=entropy, total=   0.8s\n",
      "[CV] n_estimators=2000, min_samples_split=10, min_samples_leaf=1, max_depth=50, criterion=entropy \n",
      "[CV]  n_estimators=2000, min_samples_split=10, min_samples_leaf=1, max_depth=50, criterion=entropy, total=   2.3s\n",
      "[CV] n_estimators=2000, min_samples_split=10, min_samples_leaf=1, max_depth=50, criterion=entropy \n",
      "[CV]  n_estimators=2000, min_samples_split=10, min_samples_leaf=1, max_depth=50, criterion=entropy, total=   2.4s\n",
      "[CV] n_estimators=2000, min_samples_split=10, min_samples_leaf=1, max_depth=50, criterion=entropy \n",
      "[CV]  n_estimators=2000, min_samples_split=10, min_samples_leaf=1, max_depth=50, criterion=entropy, total=   2.4s\n",
      "[CV] n_estimators=1557, min_samples_split=2, min_samples_leaf=5, max_depth=30, criterion=gini \n",
      "[CV]  n_estimators=1557, min_samples_split=2, min_samples_leaf=5, max_depth=30, criterion=gini, total=   1.7s\n",
      "[CV] n_estimators=1557, min_samples_split=2, min_samples_leaf=5, max_depth=30, criterion=gini \n",
      "[CV]  n_estimators=1557, min_samples_split=2, min_samples_leaf=5, max_depth=30, criterion=gini, total=   1.8s\n",
      "[CV] n_estimators=1557, min_samples_split=2, min_samples_leaf=5, max_depth=30, criterion=gini \n"
     ]
    },
    {
     "name": "stdout",
     "output_type": "stream",
     "text": [
      "[CV]  n_estimators=1557, min_samples_split=2, min_samples_leaf=5, max_depth=30, criterion=gini, total=   1.9s\n",
      "[CV] n_estimators=894, min_samples_split=5, min_samples_leaf=5, max_depth=80, criterion=entropy \n",
      "[CV]  n_estimators=894, min_samples_split=5, min_samples_leaf=5, max_depth=80, criterion=entropy, total=   1.1s\n",
      "[CV] n_estimators=894, min_samples_split=5, min_samples_leaf=5, max_depth=80, criterion=entropy \n",
      "[CV]  n_estimators=894, min_samples_split=5, min_samples_leaf=5, max_depth=80, criterion=entropy, total=   1.0s\n",
      "[CV] n_estimators=894, min_samples_split=5, min_samples_leaf=5, max_depth=80, criterion=entropy \n",
      "[CV]  n_estimators=894, min_samples_split=5, min_samples_leaf=5, max_depth=80, criterion=entropy, total=   1.1s\n",
      "[CV] n_estimators=1336, min_samples_split=5, min_samples_leaf=1, max_depth=60, criterion=entropy \n",
      "[CV]  n_estimators=1336, min_samples_split=5, min_samples_leaf=1, max_depth=60, criterion=entropy, total=   1.7s\n",
      "[CV] n_estimators=1336, min_samples_split=5, min_samples_leaf=1, max_depth=60, criterion=entropy \n",
      "[CV]  n_estimators=1336, min_samples_split=5, min_samples_leaf=1, max_depth=60, criterion=entropy, total=   1.7s\n",
      "[CV] n_estimators=1336, min_samples_split=5, min_samples_leaf=1, max_depth=60, criterion=entropy \n",
      "[CV]  n_estimators=1336, min_samples_split=5, min_samples_leaf=1, max_depth=60, criterion=entropy, total=   1.6s\n",
      "[CV] n_estimators=1778, min_samples_split=10, min_samples_leaf=2, max_depth=40, criterion=entropy \n",
      "[CV]  n_estimators=1778, min_samples_split=10, min_samples_leaf=2, max_depth=40, criterion=entropy, total=   2.1s\n",
      "[CV] n_estimators=1778, min_samples_split=10, min_samples_leaf=2, max_depth=40, criterion=entropy \n",
      "[CV]  n_estimators=1778, min_samples_split=10, min_samples_leaf=2, max_depth=40, criterion=entropy, total=   2.2s\n",
      "[CV] n_estimators=1778, min_samples_split=10, min_samples_leaf=2, max_depth=40, criterion=entropy \n",
      "[CV]  n_estimators=1778, min_samples_split=10, min_samples_leaf=2, max_depth=40, criterion=entropy, total=   2.4s\n",
      "[CV] n_estimators=1557, min_samples_split=10, min_samples_leaf=1, max_depth=20, criterion=entropy \n",
      "[CV]  n_estimators=1557, min_samples_split=10, min_samples_leaf=1, max_depth=20, criterion=entropy, total=   1.9s\n",
      "[CV] n_estimators=1557, min_samples_split=10, min_samples_leaf=1, max_depth=20, criterion=entropy \n",
      "[CV]  n_estimators=1557, min_samples_split=10, min_samples_leaf=1, max_depth=20, criterion=entropy, total=   1.8s\n",
      "[CV] n_estimators=1557, min_samples_split=10, min_samples_leaf=1, max_depth=20, criterion=entropy \n",
      "[CV]  n_estimators=1557, min_samples_split=10, min_samples_leaf=1, max_depth=20, criterion=entropy, total=   1.9s\n",
      "[CV] n_estimators=894, min_samples_split=10, min_samples_leaf=5, max_depth=110, criterion=gini \n",
      "[CV]  n_estimators=894, min_samples_split=10, min_samples_leaf=5, max_depth=110, criterion=gini, total=   1.0s\n",
      "[CV] n_estimators=894, min_samples_split=10, min_samples_leaf=5, max_depth=110, criterion=gini \n",
      "[CV]  n_estimators=894, min_samples_split=10, min_samples_leaf=5, max_depth=110, criterion=gini, total=   1.0s\n",
      "[CV] n_estimators=894, min_samples_split=10, min_samples_leaf=5, max_depth=110, criterion=gini \n",
      "[CV]  n_estimators=894, min_samples_split=10, min_samples_leaf=5, max_depth=110, criterion=gini, total=   1.0s\n",
      "[CV] n_estimators=452, min_samples_split=5, min_samples_leaf=2, max_depth=70, criterion=gini \n",
      "[CV]  n_estimators=452, min_samples_split=5, min_samples_leaf=2, max_depth=70, criterion=gini, total=   0.5s\n",
      "[CV] n_estimators=452, min_samples_split=5, min_samples_leaf=2, max_depth=70, criterion=gini \n",
      "[CV]  n_estimators=452, min_samples_split=5, min_samples_leaf=2, max_depth=70, criterion=gini, total=   0.6s\n",
      "[CV] n_estimators=452, min_samples_split=5, min_samples_leaf=2, max_depth=70, criterion=gini \n",
      "[CV]  n_estimators=452, min_samples_split=5, min_samples_leaf=2, max_depth=70, criterion=gini, total=   0.5s\n",
      "[CV] n_estimators=452, min_samples_split=5, min_samples_leaf=5, max_depth=50, criterion=gini \n",
      "[CV]  n_estimators=452, min_samples_split=5, min_samples_leaf=5, max_depth=50, criterion=gini, total=   0.5s\n",
      "[CV] n_estimators=452, min_samples_split=5, min_samples_leaf=5, max_depth=50, criterion=gini \n",
      "[CV]  n_estimators=452, min_samples_split=5, min_samples_leaf=5, max_depth=50, criterion=gini, total=   0.5s\n",
      "[CV] n_estimators=452, min_samples_split=5, min_samples_leaf=5, max_depth=50, criterion=gini \n",
      "[CV]  n_estimators=452, min_samples_split=5, min_samples_leaf=5, max_depth=50, criterion=gini, total=   0.5s\n",
      "[CV] n_estimators=452, min_samples_split=5, min_samples_leaf=1, max_depth=60, criterion=gini \n",
      "[CV]  n_estimators=452, min_samples_split=5, min_samples_leaf=1, max_depth=60, criterion=gini, total=   0.5s\n",
      "[CV] n_estimators=452, min_samples_split=5, min_samples_leaf=1, max_depth=60, criterion=gini \n",
      "[CV]  n_estimators=452, min_samples_split=5, min_samples_leaf=1, max_depth=60, criterion=gini, total=   0.5s\n",
      "[CV] n_estimators=452, min_samples_split=5, min_samples_leaf=1, max_depth=60, criterion=gini \n",
      "[CV]  n_estimators=452, min_samples_split=5, min_samples_leaf=1, max_depth=60, criterion=gini, total=   0.6s\n",
      "[CV] n_estimators=1557, min_samples_split=5, min_samples_leaf=2, max_depth=40, criterion=entropy \n",
      "[CV]  n_estimators=1557, min_samples_split=5, min_samples_leaf=2, max_depth=40, criterion=entropy, total=   1.8s\n",
      "[CV] n_estimators=1557, min_samples_split=5, min_samples_leaf=2, max_depth=40, criterion=entropy \n",
      "[CV]  n_estimators=1557, min_samples_split=5, min_samples_leaf=2, max_depth=40, criterion=entropy, total=   1.9s\n",
      "[CV] n_estimators=1557, min_samples_split=5, min_samples_leaf=2, max_depth=40, criterion=entropy \n",
      "[CV]  n_estimators=1557, min_samples_split=5, min_samples_leaf=2, max_depth=40, criterion=entropy, total=   1.9s\n",
      "[CV] n_estimators=231, min_samples_split=10, min_samples_leaf=5, max_depth=20, criterion=entropy \n",
      "[CV]  n_estimators=231, min_samples_split=10, min_samples_leaf=5, max_depth=20, criterion=entropy, total=   0.3s\n",
      "[CV] n_estimators=231, min_samples_split=10, min_samples_leaf=5, max_depth=20, criterion=entropy \n",
      "[CV]  n_estimators=231, min_samples_split=10, min_samples_leaf=5, max_depth=20, criterion=entropy, total=   0.3s\n",
      "[CV] n_estimators=231, min_samples_split=10, min_samples_leaf=5, max_depth=20, criterion=entropy \n",
      "[CV]  n_estimators=231, min_samples_split=10, min_samples_leaf=5, max_depth=20, criterion=entropy, total=   0.3s\n",
      "[CV] n_estimators=10, min_samples_split=2, min_samples_leaf=2, max_depth=30, criterion=entropy \n",
      "[CV]  n_estimators=10, min_samples_split=2, min_samples_leaf=2, max_depth=30, criterion=entropy, total=   0.0s\n",
      "[CV] n_estimators=10, min_samples_split=2, min_samples_leaf=2, max_depth=30, criterion=entropy \n",
      "[CV]  n_estimators=10, min_samples_split=2, min_samples_leaf=2, max_depth=30, criterion=entropy, total=   0.0s\n",
      "[CV] n_estimators=10, min_samples_split=2, min_samples_leaf=2, max_depth=30, criterion=entropy \n",
      "[CV]  n_estimators=10, min_samples_split=2, min_samples_leaf=2, max_depth=30, criterion=entropy, total=   0.0s\n",
      "[CV] n_estimators=673, min_samples_split=10, min_samples_leaf=5, max_depth=60, criterion=entropy \n",
      "[CV]  n_estimators=673, min_samples_split=10, min_samples_leaf=5, max_depth=60, criterion=entropy, total=   0.8s\n",
      "[CV] n_estimators=673, min_samples_split=10, min_samples_leaf=5, max_depth=60, criterion=entropy \n",
      "[CV]  n_estimators=673, min_samples_split=10, min_samples_leaf=5, max_depth=60, criterion=entropy, total=   0.8s\n",
      "[CV] n_estimators=673, min_samples_split=10, min_samples_leaf=5, max_depth=60, criterion=entropy \n",
      "[CV]  n_estimators=673, min_samples_split=10, min_samples_leaf=5, max_depth=60, criterion=entropy, total=   0.8s\n",
      "[CV] n_estimators=2000, min_samples_split=10, min_samples_leaf=5, max_depth=90, criterion=gini \n",
      "[CV]  n_estimators=2000, min_samples_split=10, min_samples_leaf=5, max_depth=90, criterion=gini, total=   2.3s\n",
      "[CV] n_estimators=2000, min_samples_split=10, min_samples_leaf=5, max_depth=90, criterion=gini \n",
      "[CV]  n_estimators=2000, min_samples_split=10, min_samples_leaf=5, max_depth=90, criterion=gini, total=   2.2s\n",
      "[CV] n_estimators=2000, min_samples_split=10, min_samples_leaf=5, max_depth=90, criterion=gini \n",
      "[CV]  n_estimators=2000, min_samples_split=10, min_samples_leaf=5, max_depth=90, criterion=gini, total=   2.2s\n",
      "[CV] n_estimators=1557, min_samples_split=5, min_samples_leaf=5, max_depth=60, criterion=entropy \n"
     ]
    },
    {
     "name": "stdout",
     "output_type": "stream",
     "text": [
      "[CV]  n_estimators=1557, min_samples_split=5, min_samples_leaf=5, max_depth=60, criterion=entropy, total=   1.8s\n",
      "[CV] n_estimators=1557, min_samples_split=5, min_samples_leaf=5, max_depth=60, criterion=entropy \n",
      "[CV]  n_estimators=1557, min_samples_split=5, min_samples_leaf=5, max_depth=60, criterion=entropy, total=   1.8s\n",
      "[CV] n_estimators=1557, min_samples_split=5, min_samples_leaf=5, max_depth=60, criterion=entropy \n",
      "[CV]  n_estimators=1557, min_samples_split=5, min_samples_leaf=5, max_depth=60, criterion=entropy, total=   1.9s\n",
      "[CV] n_estimators=1778, min_samples_split=2, min_samples_leaf=1, max_depth=70, criterion=gini \n",
      "[CV]  n_estimators=1778, min_samples_split=2, min_samples_leaf=1, max_depth=70, criterion=gini, total=   2.7s\n",
      "[CV] n_estimators=1778, min_samples_split=2, min_samples_leaf=1, max_depth=70, criterion=gini \n",
      "[CV]  n_estimators=1778, min_samples_split=2, min_samples_leaf=1, max_depth=70, criterion=gini, total=   2.7s\n",
      "[CV] n_estimators=1778, min_samples_split=2, min_samples_leaf=1, max_depth=70, criterion=gini \n",
      "[CV]  n_estimators=1778, min_samples_split=2, min_samples_leaf=1, max_depth=70, criterion=gini, total=   3.0s\n",
      "[CV] n_estimators=10, min_samples_split=5, min_samples_leaf=1, max_depth=80, criterion=entropy \n",
      "[CV]  n_estimators=10, min_samples_split=5, min_samples_leaf=1, max_depth=80, criterion=entropy, total=   0.0s\n",
      "[CV] n_estimators=10, min_samples_split=5, min_samples_leaf=1, max_depth=80, criterion=entropy \n",
      "[CV]  n_estimators=10, min_samples_split=5, min_samples_leaf=1, max_depth=80, criterion=entropy, total=   0.0s\n",
      "[CV] n_estimators=10, min_samples_split=5, min_samples_leaf=1, max_depth=80, criterion=entropy \n",
      "[CV]  n_estimators=10, min_samples_split=5, min_samples_leaf=1, max_depth=80, criterion=entropy, total=   0.0s\n"
     ]
    },
    {
     "name": "stderr",
     "output_type": "stream",
     "text": [
      "[Parallel(n_jobs=1)]: Done  90 out of  90 | elapsed:  1.8min finished\n"
     ]
    },
    {
     "data": {
      "text/plain": [
       "RandomizedSearchCV(cv=3, error_score='raise-deprecating',\n",
       "                   estimator=RandomForestClassifier(bootstrap=True,\n",
       "                                                    class_weight=None,\n",
       "                                                    criterion='gini',\n",
       "                                                    max_depth=None,\n",
       "                                                    max_features='auto',\n",
       "                                                    max_leaf_nodes=None,\n",
       "                                                    min_impurity_decrease=0.0,\n",
       "                                                    min_impurity_split=None,\n",
       "                                                    min_samples_leaf=1,\n",
       "                                                    min_samples_split=2,\n",
       "                                                    min_weight_fraction_leaf=0.0,\n",
       "                                                    n_estimators='warn',\n",
       "                                                    n_jobs=None,\n",
       "                                                    oob_sc...\n",
       "                   iid='warn', n_iter=30, n_jobs=None,\n",
       "                   param_distributions={'criterion': ['gini', 'entropy'],\n",
       "                                        'max_depth': [10, 20, 30, 40, 50, 60,\n",
       "                                                      70, 80, 90, 100, 110],\n",
       "                                        'min_samples_leaf': [1, 2, 5],\n",
       "                                        'min_samples_split': [2, 5, 10],\n",
       "                                        'n_estimators': [10, 231, 452, 673, 894,\n",
       "                                                         1115, 1336, 1557, 1778,\n",
       "                                                         2000]},\n",
       "                   pre_dispatch='2*n_jobs', random_state=42, refit=True,\n",
       "                   return_train_score=False, scoring=None, verbose=2)"
      ]
     },
     "execution_count": 41,
     "metadata": {},
     "output_type": "execute_result"
    }
   ],
   "source": [
    "# Fit the random search model\n",
    "rf_random.fit(X_train, y_train)"
   ]
  },
  {
   "cell_type": "code",
   "execution_count": 42,
   "metadata": {},
   "outputs": [
    {
     "data": {
      "text/plain": [
       "{'n_estimators': 1557,\n",
       " 'min_samples_split': 5,\n",
       " 'min_samples_leaf': 5,\n",
       " 'max_depth': 60,\n",
       " 'criterion': 'entropy'}"
      ]
     },
     "execution_count": 42,
     "metadata": {},
     "output_type": "execute_result"
    }
   ],
   "source": [
    "# Check which one was the best random forest\n",
    "rf_random.best_params_"
   ]
  },
  {
   "cell_type": "code",
   "execution_count": 43,
   "metadata": {},
   "outputs": [
    {
     "data": {
      "text/plain": [
       "Text(33.0, 0.5, 'True Severity')"
      ]
     },
     "execution_count": 43,
     "metadata": {},
     "output_type": "execute_result"
    },
    {
     "data": {
      "image/png": "[encoded data removed]",
      "text/plain": [
       "<Figure size 432x288 with 1 Axes>"
      ]
     },
     "metadata": {
      "needs_background": "light"
     },
     "output_type": "display_data"
    }
   ],
   "source": [
    "# Look at the confusion matrix for this regressor\n",
    "best_rf = rf_random.best_estimator_\n",
    "y_pred = best_rf.predict(X_test)\n",
    "\n",
    "# Calculate confusion matrix\n",
    "conf_mat = confusion_matrix(y_test, y_pred)\n",
    "\n",
    "# Plot confusion matrix heatmap\n",
    "ax = sns.heatmap(conf_mat, annot=True, cbar=False)\n",
    "plt.xlabel('Predicted Severity')\n",
    "plt.ylabel('True Severity')"
   ]
  },
  {
   "cell_type": "code",
   "execution_count": 44,
   "metadata": {},
   "outputs": [
    {
     "name": "stdout",
     "output_type": "stream",
     "text": [
      "              precision    recall  f1-score   support\n",
      "\n",
      "           0       0.76      0.85      0.80        81\n",
      "           1       0.84      0.74      0.79        85\n",
      "\n",
      "    accuracy                           0.80       166\n",
      "   macro avg       0.80      0.80      0.79       166\n",
      "weighted avg       0.80      0.80      0.79       166\n",
      "\n"
     ]
    }
   ],
   "source": [
    "# Print out classification_report\n",
    "scores = classification_report(y_test, y_pred)\n",
    "print(scores)"
   ]
  },
  {
   "cell_type": "code",
   "execution_count": null,
   "metadata": {},
   "outputs": [],
   "source": []
  }
 ],
 "metadata": {
  "kernelspec": {
   "display_name": "khsdtc",
   "language": "python",
   "name": "khsdtc"
  },
  "language_info": {
   "codemirror_mode": {
    "name": "ipython",
    "version": 3
   },
   "file_extension": ".py",
   "mimetype": "text/x-python",
   "name": "python",
   "nbconvert_exporter": "python",
   "pygments_lexer": "ipython3",
   "version": "3.7.4"
  }
 },
 "nbformat": 4,
 "nbformat_minor": 4
}
